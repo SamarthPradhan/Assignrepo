{
 "cells": [
  {
   "cell_type": "markdown",
   "id": "2a87caa8-78f2-42d1-aa4f-f8cc2bdf4bcd",
   "metadata": {},
   "source": [
    "# Data Science Tools and Ecosystem"
   ]
  },
  {
   "cell_type": "markdown",
   "id": "1bb093be-b58f-472d-8764-e0b5c2d61e26",
   "metadata": {},
   "source": [
    "In this notebook, Data Science Tools and Ecosystem are summarized."
   ]
  },
  {
   "cell_type": "markdown",
   "id": "bcb6697d-1d84-4c16-b5b3-0edaa3c93bcc",
   "metadata": {},
   "source": [
    "Objectives:\n",
    "* List popular languages of Data Science\n",
    "* List commonly used libraries of Data Science\n",
    "* Some Data Science Tools\n",
    "* Listing Basic Arithmetic Expressions"
   ]
  },
  {
   "attachments": {},
   "cell_type": "markdown",
   "id": "f4f84564-d048-4b09-a07f-88c8ce6c6261",
   "metadata": {},
   "source": [
    "Some of the popular languages that Data Scientists use are:\n",
    "\n",
    "1. Python\n",
    "2. R\n",
    "3. SQL\n",
    "4. Java\n",
    "5. Scala\n",
    "6. Julia\n",
    "7. MATLAB"
   ]
  },
  {
   "attachments": {},
   "cell_type": "markdown",
   "id": "ac630b26-cffc-41a8-92c4-9a871ae89fa2",
   "metadata": {},
   "source": [
    "Some of the commonly used libraries used by Data Scientists include:\n",
    "\n",
    "1. NumPy\n",
    "2. Pandas\n",
    "3. Matplotlib\n",
    "4. Seaborn\n",
    "5. Scikit-Learn\n",
    "6. TensorFlow\n",
    "7. Keras\n",
    "8. SciPy\n",
    "9. BeautifulSoup\n",
    "10. Scrapy"
   ]
  },
  {
   "cell_type": "markdown",
   "id": "11a83ad0-bf46-4c11-870d-3cb7e2a4cd61",
   "metadata": {},
   "source": [
    "| Data Science Tools |\n",
    "| ------------------ |\n",
    "| Jupyter Notebook |\n",
    "| RStudio |\n",
    "| Apache Zeppelin |"
   ]
  },
  {
   "cell_type": "markdown",
   "id": "d0e3c71b-f40a-44fa-a32b-e8724a811d5f",
   "metadata": {},
   "source": [
    "### Below are a few examples of evaluating arithmetic expressions in Python"
   ]
  },
  {
   "cell_type": "markdown",
   "id": "be10f011-fe66-4ae5-a30e-568521e85e4c",
   "metadata": {},
   "source": [
    "1. Addition"
   ]
  },
  {
   "cell_type": "code",
   "execution_count": 31,
   "id": "c8db68d5-785c-4851-ab62-a778ca6b5cf4",
   "metadata": {},
   "outputs": [
    {
     "data": {
      "text/plain": [
       "8"
      ]
     },
     "execution_count": 31,
     "metadata": {},
     "output_type": "execute_result"
    }
   ],
   "source": [
    "5+3"
   ]
  },
  {
   "cell_type": "markdown",
   "id": "3a308108-876e-42b4-be34-a81bf73867f5",
   "metadata": {},
   "source": [
    "2. Subtraction"
   ]
  },
  {
   "cell_type": "code",
   "execution_count": 13,
   "id": "2663d826-da52-4dc1-a20b-afeab5180a0f",
   "metadata": {},
   "outputs": [
    {
     "data": {
      "text/plain": [
       "6"
      ]
     },
     "execution_count": 13,
     "metadata": {},
     "output_type": "execute_result"
    }
   ],
   "source": [
    "10-4"
   ]
  },
  {
   "cell_type": "markdown",
   "id": "e2293162-80ab-45f7-8956-dbbceb74fc24",
   "metadata": {},
   "source": [
    "3. Multiplication"
   ]
  },
  {
   "cell_type": "code",
   "execution_count": 16,
   "id": "705866ac-0596-4d0c-ac3a-868d33bc71dd",
   "metadata": {},
   "outputs": [
    {
     "data": {
      "text/plain": [
       "14"
      ]
     },
     "execution_count": 16,
     "metadata": {},
     "output_type": "execute_result"
    }
   ],
   "source": [
    "7*2"
   ]
  },
  {
   "cell_type": "markdown",
   "id": "aea1fa13-64f7-4fd4-aee4-b5e543173b9d",
   "metadata": {},
   "source": [
    "4. Division"
   ]
  },
  {
   "cell_type": "code",
   "execution_count": 19,
   "id": "928d9f64-cc60-493e-afad-ba10db245b5f",
   "metadata": {},
   "outputs": [
    {
     "data": {
      "text/plain": [
       "5.0"
      ]
     },
     "execution_count": 19,
     "metadata": {},
     "output_type": "execute_result"
    }
   ],
   "source": [
    "15/3"
   ]
  },
  {
   "cell_type": "markdown",
   "id": "ec058fc9-9be6-4049-bf69-06a6ed04d6ab",
   "metadata": {},
   "source": [
    "This a simple arithmetic expression to mutiply then add integers"
   ]
  },
  {
   "cell_type": "code",
   "execution_count": 21,
   "id": "6c803326-33ec-47c0-aa6f-522e246324d2",
   "metadata": {},
   "outputs": [
    {
     "data": {
      "text/plain": [
       "17"
      ]
     },
     "execution_count": 21,
     "metadata": {},
     "output_type": "execute_result"
    }
   ],
   "source": [
    "(3*4)+5"
   ]
  },
  {
   "cell_type": "markdown",
   "id": "83824226-3903-4c7a-aa99-a1d791093bc2",
   "metadata": {},
   "source": [
    "This will convert 200 minutes to hours by diving by 60"
   ]
  },
  {
   "cell_type": "code",
   "execution_count": 27,
   "id": "3d7c519f-0995-47a6-912a-fc6b08a51fcb",
   "metadata": {},
   "outputs": [
    {
     "name": "stdout",
     "output_type": "stream",
     "text": [
      "3.3333333333333335\n"
     ]
    }
   ],
   "source": [
    "minutes = 200\n",
    "hours = minutes / 60\n",
    "print(hours)"
   ]
  },
  {
   "cell_type": "markdown",
   "id": "705b7c24-b0e1-4892-94cd-8d31eec31133",
   "metadata": {},
   "source": [
    "## Author"
   ]
  },
  {
   "cell_type": "markdown",
   "id": "b3eee8f6-99fb-45cb-873e-93ec68ddab98",
   "metadata": {},
   "source": [
    "Samarth Pradhan"
   ]
  },
  {
   "cell_type": "code",
   "execution_count": null,
   "id": "df5527bf-1bcf-4a2e-8d9a-9681ec83eda1",
   "metadata": {},
   "outputs": [],
   "source": []
  }
 ],
 "metadata": {
  "kernelspec": {
   "display_name": "Python 3 (ipykernel)",
   "language": "python",
   "name": "python3"
  },
  "language_info": {
   "codemirror_mode": {
    "name": "ipython",
    "version": 3
   },
   "file_extension": ".py",
   "mimetype": "text/x-python",
   "name": "python",
   "nbconvert_exporter": "python",
   "pygments_lexer": "ipython3",
   "version": "3.12.4"
  }
 },
 "nbformat": 4,
 "nbformat_minor": 5
}
